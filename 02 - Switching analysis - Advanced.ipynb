{
 "cells": [
  {
   "attachments": {},
   "cell_type": "markdown",
   "id": "52c065c7-72e0-4e49-91e0-f281f595e672",
   "metadata": {},
   "source": [
    "<p align=\"center\">\n",
    "  <img src=\"images/logo.png\" width=\"300\"/>\n",
    "</p>"
   ]
  },
  {
   "cell_type": "markdown",
   "id": "d856b037-cb69-4745-a02c-1406dacfc273",
   "metadata": {},
   "source": [
    "<span style='font-weight:bold; font-size:xx-large'>Valve insight - Switching analysis</span>\n",
    "\n",
    "Below we show some algorithms from our [ValveInsight](https://www.buerkert.de/de/landingpage/zuverlaessige-analysegeraete-durch-diagnose-mit-valveinsight) portfolio. \n",
    "\n",
    "- Switching fault detection \n",
    "- Switching duration detection. \n",
    "\n",
    "The sample data was acquired with the Valve Insight eval kit. For comparison we also show a few sample curves measured with high end laboratory equipment. \n",
    "\n",
    "If you have further requests or need a more fine-tuned solution please [contact us](info@burkert.com). "
   ]
  },
  {
   "cell_type": "code",
   "execution_count": 1,
   "id": "28658aab-bb28-418a-853c-239ae4379a07",
   "metadata": {},
   "outputs": [],
   "source": [
    "import numpy as np\n",
    "import pandas as pd\n",
    "\n",
    "# Data visualization\n",
    "%matplotlib inline\n",
    "import matplotlib.pyplot as plt\n",
    "import seaborn as sns\n",
    "\n",
    "# Valve insight algorithms\n",
    "import algorithms_python.src.valveinsight as vi"
   ]
  },
  {
   "cell_type": "markdown",
   "id": "ad203c0b-4f81-42a2-912b-40fc78c73e59",
   "metadata": {},
   "source": [
    "# Load data\n",
    "\n",
    "Load the data from the csv files using pandas."
   ]
  },
  {
   "cell_type": "code",
   "execution_count": 2,
   "id": "c927a6cf-852d-40f1-87c3-f9a9aa7952a7",
   "metadata": {},
   "outputs": [],
   "source": [
    "df_current_lab_low_noise = pd.read_csv('data/Lab_LowNoise_AllGood#Current.csv', index_col=False)\n",
    "df_current = pd.read_csv('data/ValveInsight#EvalKit#Current.csv', index_col=False)\n",
    "df_voltage = pd.read_csv('data/ValveInsight#EvalKit#Voltage.csv', index_col=False)\n",
    "df_params = pd.read_csv('data/ValveInsight#EvalKit#Attributes.csv', index_col=False)"
   ]
  },
  {
   "cell_type": "code",
   "execution_count": 3,
   "id": "167d56fb-4b82-4c53-800c-2a6885c63c70",
   "metadata": {},
   "outputs": [
    {
     "data": {
      "text/html": [
       "<div>\n",
       "<style scoped>\n",
       "    .dataframe tbody tr th:only-of-type {\n",
       "        vertical-align: middle;\n",
       "    }\n",
       "\n",
       "    .dataframe tbody tr th {\n",
       "        vertical-align: top;\n",
       "    }\n",
       "\n",
       "    .dataframe thead th {\n",
       "        text-align: right;\n",
       "    }\n",
       "</style>\n",
       "<table border=\"1\" class=\"dataframe\">\n",
       "  <thead>\n",
       "    <tr style=\"text-align: right;\">\n",
       "      <th></th>\n",
       "      <th>0.0</th>\n",
       "      <th>0.05</th>\n",
       "      <th>0.1</th>\n",
       "      <th>0.15</th>\n",
       "      <th>0.2</th>\n",
       "      <th>0.25</th>\n",
       "      <th>0.3</th>\n",
       "      <th>0.35</th>\n",
       "      <th>0.4</th>\n",
       "      <th>0.45</th>\n",
       "      <th>...</th>\n",
       "      <th>24.5</th>\n",
       "      <th>24.55</th>\n",
       "      <th>24.6</th>\n",
       "      <th>24.65</th>\n",
       "      <th>24.7</th>\n",
       "      <th>24.75</th>\n",
       "      <th>24.8</th>\n",
       "      <th>24.85</th>\n",
       "      <th>24.9</th>\n",
       "      <th>24.95</th>\n",
       "    </tr>\n",
       "  </thead>\n",
       "  <tbody>\n",
       "    <tr>\n",
       "      <th>0</th>\n",
       "      <td>29.274545</td>\n",
       "      <td>42.988977</td>\n",
       "      <td>45.706229</td>\n",
       "      <td>46.629069</td>\n",
       "      <td>46.577801</td>\n",
       "      <td>46.065112</td>\n",
       "      <td>45.424250</td>\n",
       "      <td>44.860292</td>\n",
       "      <td>44.116893</td>\n",
       "      <td>43.347860</td>\n",
       "      <td>...</td>\n",
       "      <td>50.320431</td>\n",
       "      <td>50.448603</td>\n",
       "      <td>50.422968</td>\n",
       "      <td>50.499872</td>\n",
       "      <td>50.371700</td>\n",
       "      <td>50.269162</td>\n",
       "      <td>50.499872</td>\n",
       "      <td>50.346065</td>\n",
       "      <td>50.422968</td>\n",
       "      <td>50.320431</td>\n",
       "    </tr>\n",
       "    <tr>\n",
       "      <th>1</th>\n",
       "      <td>29.325814</td>\n",
       "      <td>43.270956</td>\n",
       "      <td>45.706229</td>\n",
       "      <td>46.577801</td>\n",
       "      <td>46.449628</td>\n",
       "      <td>46.013843</td>\n",
       "      <td>45.372981</td>\n",
       "      <td>44.527044</td>\n",
       "      <td>43.860549</td>\n",
       "      <td>43.142784</td>\n",
       "      <td>...</td>\n",
       "      <td>50.422968</td>\n",
       "      <td>50.243527</td>\n",
       "      <td>50.499872</td>\n",
       "      <td>50.320431</td>\n",
       "      <td>50.448603</td>\n",
       "      <td>50.499872</td>\n",
       "      <td>50.371700</td>\n",
       "      <td>50.448603</td>\n",
       "      <td>50.371700</td>\n",
       "      <td>50.422968</td>\n",
       "    </tr>\n",
       "    <tr>\n",
       "      <th>2</th>\n",
       "      <td>28.479877</td>\n",
       "      <td>42.655729</td>\n",
       "      <td>45.449885</td>\n",
       "      <td>46.526532</td>\n",
       "      <td>46.629069</td>\n",
       "      <td>46.142015</td>\n",
       "      <td>45.552422</td>\n",
       "      <td>45.014099</td>\n",
       "      <td>44.116893</td>\n",
       "      <td>43.399128</td>\n",
       "      <td>...</td>\n",
       "      <td>50.422968</td>\n",
       "      <td>50.448603</td>\n",
       "      <td>50.269162</td>\n",
       "      <td>50.320431</td>\n",
       "      <td>50.320431</td>\n",
       "      <td>50.371700</td>\n",
       "      <td>50.499872</td>\n",
       "      <td>50.371700</td>\n",
       "      <td>50.499872</td>\n",
       "      <td>50.371700</td>\n",
       "    </tr>\n",
       "    <tr>\n",
       "      <th>3</th>\n",
       "      <td>29.351448</td>\n",
       "      <td>43.450397</td>\n",
       "      <td>45.731864</td>\n",
       "      <td>46.577801</td>\n",
       "      <td>46.552166</td>\n",
       "      <td>45.911305</td>\n",
       "      <td>45.424250</td>\n",
       "      <td>44.706486</td>\n",
       "      <td>44.014355</td>\n",
       "      <td>43.347860</td>\n",
       "      <td>...</td>\n",
       "      <td>50.320431</td>\n",
       "      <td>50.269162</td>\n",
       "      <td>50.346065</td>\n",
       "      <td>50.499872</td>\n",
       "      <td>50.320431</td>\n",
       "      <td>50.499872</td>\n",
       "      <td>50.371700</td>\n",
       "      <td>50.243527</td>\n",
       "      <td>50.499872</td>\n",
       "      <td>50.346065</td>\n",
       "    </tr>\n",
       "    <tr>\n",
       "      <th>4</th>\n",
       "      <td>28.249167</td>\n",
       "      <td>42.501923</td>\n",
       "      <td>45.116637</td>\n",
       "      <td>46.347090</td>\n",
       "      <td>46.449628</td>\n",
       "      <td>45.808767</td>\n",
       "      <td>45.270443</td>\n",
       "      <td>44.603948</td>\n",
       "      <td>43.758011</td>\n",
       "      <td>43.270956</td>\n",
       "      <td>...</td>\n",
       "      <td>50.474237</td>\n",
       "      <td>50.320431</td>\n",
       "      <td>50.371700</td>\n",
       "      <td>50.499872</td>\n",
       "      <td>50.422968</td>\n",
       "      <td>50.499872</td>\n",
       "      <td>50.422968</td>\n",
       "      <td>50.371700</td>\n",
       "      <td>50.499872</td>\n",
       "      <td>50.320431</td>\n",
       "    </tr>\n",
       "    <tr>\n",
       "      <th>...</th>\n",
       "      <td>...</td>\n",
       "      <td>...</td>\n",
       "      <td>...</td>\n",
       "      <td>...</td>\n",
       "      <td>...</td>\n",
       "      <td>...</td>\n",
       "      <td>...</td>\n",
       "      <td>...</td>\n",
       "      <td>...</td>\n",
       "      <td>...</td>\n",
       "      <td>...</td>\n",
       "      <td>...</td>\n",
       "      <td>...</td>\n",
       "      <td>...</td>\n",
       "      <td>...</td>\n",
       "      <td>...</td>\n",
       "      <td>...</td>\n",
       "      <td>...</td>\n",
       "      <td>...</td>\n",
       "      <td>...</td>\n",
       "      <td>...</td>\n",
       "    </tr>\n",
       "    <tr>\n",
       "      <th>68</th>\n",
       "      <td>28.326070</td>\n",
       "      <td>42.501923</td>\n",
       "      <td>45.449885</td>\n",
       "      <td>46.475263</td>\n",
       "      <td>46.500897</td>\n",
       "      <td>46.013843</td>\n",
       "      <td>45.424250</td>\n",
       "      <td>44.860292</td>\n",
       "      <td>44.116893</td>\n",
       "      <td>43.373494</td>\n",
       "      <td>...</td>\n",
       "      <td>50.602410</td>\n",
       "      <td>50.807485</td>\n",
       "      <td>50.602410</td>\n",
       "      <td>50.807485</td>\n",
       "      <td>50.653679</td>\n",
       "      <td>50.551141</td>\n",
       "      <td>50.628044</td>\n",
       "      <td>50.628044</td>\n",
       "      <td>50.628044</td>\n",
       "      <td>50.807485</td>\n",
       "    </tr>\n",
       "    <tr>\n",
       "      <th>69</th>\n",
       "      <td>29.351448</td>\n",
       "      <td>43.168418</td>\n",
       "      <td>45.731864</td>\n",
       "      <td>46.475263</td>\n",
       "      <td>46.347090</td>\n",
       "      <td>45.885670</td>\n",
       "      <td>45.270443</td>\n",
       "      <td>44.603948</td>\n",
       "      <td>43.809280</td>\n",
       "      <td>43.065881</td>\n",
       "      <td>...</td>\n",
       "      <td>50.807485</td>\n",
       "      <td>50.807485</td>\n",
       "      <td>50.858754</td>\n",
       "      <td>50.628044</td>\n",
       "      <td>50.807485</td>\n",
       "      <td>50.653679</td>\n",
       "      <td>50.807485</td>\n",
       "      <td>50.858754</td>\n",
       "      <td>50.781851</td>\n",
       "      <td>50.807485</td>\n",
       "    </tr>\n",
       "    <tr>\n",
       "      <th>70</th>\n",
       "      <td>30.017944</td>\n",
       "      <td>43.014612</td>\n",
       "      <td>45.552422</td>\n",
       "      <td>46.475263</td>\n",
       "      <td>46.475263</td>\n",
       "      <td>45.936939</td>\n",
       "      <td>45.449885</td>\n",
       "      <td>44.732120</td>\n",
       "      <td>43.783645</td>\n",
       "      <td>43.270956</td>\n",
       "      <td>...</td>\n",
       "      <td>50.858754</td>\n",
       "      <td>50.910023</td>\n",
       "      <td>50.858754</td>\n",
       "      <td>50.910023</td>\n",
       "      <td>50.910023</td>\n",
       "      <td>50.807485</td>\n",
       "      <td>50.910023</td>\n",
       "      <td>50.807485</td>\n",
       "      <td>50.858754</td>\n",
       "      <td>50.858754</td>\n",
       "    </tr>\n",
       "    <tr>\n",
       "      <th>71</th>\n",
       "      <td>29.197642</td>\n",
       "      <td>43.296591</td>\n",
       "      <td>45.629326</td>\n",
       "      <td>46.552166</td>\n",
       "      <td>46.449628</td>\n",
       "      <td>45.808767</td>\n",
       "      <td>45.372981</td>\n",
       "      <td>44.578313</td>\n",
       "      <td>44.014355</td>\n",
       "      <td>43.117149</td>\n",
       "      <td>...</td>\n",
       "      <td>50.858754</td>\n",
       "      <td>50.858754</td>\n",
       "      <td>50.807485</td>\n",
       "      <td>50.935658</td>\n",
       "      <td>50.807485</td>\n",
       "      <td>50.858754</td>\n",
       "      <td>50.858754</td>\n",
       "      <td>50.653679</td>\n",
       "      <td>50.858754</td>\n",
       "      <td>50.807485</td>\n",
       "    </tr>\n",
       "    <tr>\n",
       "      <th>72</th>\n",
       "      <td>28.326070</td>\n",
       "      <td>42.706998</td>\n",
       "      <td>45.603691</td>\n",
       "      <td>46.552166</td>\n",
       "      <td>46.577801</td>\n",
       "      <td>46.065112</td>\n",
       "      <td>45.449885</td>\n",
       "      <td>44.911561</td>\n",
       "      <td>44.116893</td>\n",
       "      <td>43.399128</td>\n",
       "      <td>...</td>\n",
       "      <td>50.499872</td>\n",
       "      <td>50.653679</td>\n",
       "      <td>50.602410</td>\n",
       "      <td>50.628044</td>\n",
       "      <td>50.653679</td>\n",
       "      <td>50.602410</td>\n",
       "      <td>50.653679</td>\n",
       "      <td>50.551141</td>\n",
       "      <td>50.551141</td>\n",
       "      <td>50.807485</td>\n",
       "    </tr>\n",
       "  </tbody>\n",
       "</table>\n",
       "<p>73 rows × 500 columns</p>\n",
       "</div>"
      ],
      "text/plain": [
       "          0.0       0.05        0.1       0.15        0.2       0.25  \\\n",
       "0   29.274545  42.988977  45.706229  46.629069  46.577801  46.065112   \n",
       "1   29.325814  43.270956  45.706229  46.577801  46.449628  46.013843   \n",
       "2   28.479877  42.655729  45.449885  46.526532  46.629069  46.142015   \n",
       "3   29.351448  43.450397  45.731864  46.577801  46.552166  45.911305   \n",
       "4   28.249167  42.501923  45.116637  46.347090  46.449628  45.808767   \n",
       "..        ...        ...        ...        ...        ...        ...   \n",
       "68  28.326070  42.501923  45.449885  46.475263  46.500897  46.013843   \n",
       "69  29.351448  43.168418  45.731864  46.475263  46.347090  45.885670   \n",
       "70  30.017944  43.014612  45.552422  46.475263  46.475263  45.936939   \n",
       "71  29.197642  43.296591  45.629326  46.552166  46.449628  45.808767   \n",
       "72  28.326070  42.706998  45.603691  46.552166  46.577801  46.065112   \n",
       "\n",
       "          0.3       0.35        0.4       0.45  ...       24.5      24.55  \\\n",
       "0   45.424250  44.860292  44.116893  43.347860  ...  50.320431  50.448603   \n",
       "1   45.372981  44.527044  43.860549  43.142784  ...  50.422968  50.243527   \n",
       "2   45.552422  45.014099  44.116893  43.399128  ...  50.422968  50.448603   \n",
       "3   45.424250  44.706486  44.014355  43.347860  ...  50.320431  50.269162   \n",
       "4   45.270443  44.603948  43.758011  43.270956  ...  50.474237  50.320431   \n",
       "..        ...        ...        ...        ...  ...        ...        ...   \n",
       "68  45.424250  44.860292  44.116893  43.373494  ...  50.602410  50.807485   \n",
       "69  45.270443  44.603948  43.809280  43.065881  ...  50.807485  50.807485   \n",
       "70  45.449885  44.732120  43.783645  43.270956  ...  50.858754  50.910023   \n",
       "71  45.372981  44.578313  44.014355  43.117149  ...  50.858754  50.858754   \n",
       "72  45.449885  44.911561  44.116893  43.399128  ...  50.499872  50.653679   \n",
       "\n",
       "         24.6      24.65       24.7      24.75       24.8      24.85  \\\n",
       "0   50.422968  50.499872  50.371700  50.269162  50.499872  50.346065   \n",
       "1   50.499872  50.320431  50.448603  50.499872  50.371700  50.448603   \n",
       "2   50.269162  50.320431  50.320431  50.371700  50.499872  50.371700   \n",
       "3   50.346065  50.499872  50.320431  50.499872  50.371700  50.243527   \n",
       "4   50.371700  50.499872  50.422968  50.499872  50.422968  50.371700   \n",
       "..        ...        ...        ...        ...        ...        ...   \n",
       "68  50.602410  50.807485  50.653679  50.551141  50.628044  50.628044   \n",
       "69  50.858754  50.628044  50.807485  50.653679  50.807485  50.858754   \n",
       "70  50.858754  50.910023  50.910023  50.807485  50.910023  50.807485   \n",
       "71  50.807485  50.935658  50.807485  50.858754  50.858754  50.653679   \n",
       "72  50.602410  50.628044  50.653679  50.602410  50.653679  50.551141   \n",
       "\n",
       "         24.9      24.95  \n",
       "0   50.422968  50.320431  \n",
       "1   50.371700  50.422968  \n",
       "2   50.499872  50.371700  \n",
       "3   50.499872  50.346065  \n",
       "4   50.499872  50.320431  \n",
       "..        ...        ...  \n",
       "68  50.628044  50.807485  \n",
       "69  50.781851  50.807485  \n",
       "70  50.858754  50.858754  \n",
       "71  50.858754  50.807485  \n",
       "72  50.551141  50.807485  \n",
       "\n",
       "[73 rows x 500 columns]"
      ]
     },
     "execution_count": 3,
     "metadata": {},
     "output_type": "execute_result"
    }
   ],
   "source": [
    "df_current"
   ]
  },
  {
   "cell_type": "markdown",
   "id": "a0f84c2c-7562-4edf-8d88-a571c0e4d35e",
   "metadata": {},
   "source": [
    "The current dataframe contains the current measurements. Each row is one measurement. The columns are the timestamps in milliseconds (ms)."
   ]
  },
  {
   "cell_type": "code",
   "execution_count": 4,
   "id": "9ba0e5d7-6d14-4eee-b3be-4e839ae77c0b",
   "metadata": {},
   "outputs": [
    {
     "data": {
      "text/html": [
       "<div>\n",
       "<style scoped>\n",
       "    .dataframe tbody tr th:only-of-type {\n",
       "        vertical-align: middle;\n",
       "    }\n",
       "\n",
       "    .dataframe tbody tr th {\n",
       "        vertical-align: top;\n",
       "    }\n",
       "\n",
       "    .dataframe thead th {\n",
       "        text-align: right;\n",
       "    }\n",
       "</style>\n",
       "<table border=\"1\" class=\"dataframe\">\n",
       "  <thead>\n",
       "    <tr style=\"text-align: right;\">\n",
       "      <th></th>\n",
       "      <th>fault</th>\n",
       "    </tr>\n",
       "  </thead>\n",
       "  <tbody>\n",
       "    <tr>\n",
       "      <th>0</th>\n",
       "      <td>False</td>\n",
       "    </tr>\n",
       "    <tr>\n",
       "      <th>1</th>\n",
       "      <td>False</td>\n",
       "    </tr>\n",
       "    <tr>\n",
       "      <th>2</th>\n",
       "      <td>False</td>\n",
       "    </tr>\n",
       "    <tr>\n",
       "      <th>3</th>\n",
       "      <td>False</td>\n",
       "    </tr>\n",
       "    <tr>\n",
       "      <th>4</th>\n",
       "      <td>False</td>\n",
       "    </tr>\n",
       "  </tbody>\n",
       "</table>\n",
       "</div>"
      ],
      "text/plain": [
       "   fault\n",
       "0  False\n",
       "1  False\n",
       "2  False\n",
       "3  False\n",
       "4  False"
      ]
     },
     "execution_count": 4,
     "metadata": {},
     "output_type": "execute_result"
    }
   ],
   "source": [
    "df_params.head()"
   ]
  },
  {
   "cell_type": "markdown",
   "id": "f8b35cf7-2f6a-489c-9eee-53e0c9246519",
   "metadata": {},
   "source": [
    "The params dataframe contains the information, if a valve switching was successful or not.   \n",
    "It is based on the criterion that at least 90% of the flow should pass, if the valve opened successfully. "
   ]
  },
  {
   "cell_type": "markdown",
   "id": "daa2bee5-45b0-462a-9d9f-a70f6b1a0a62",
   "metadata": {},
   "source": [
    "# Visualize"
   ]
  },
  {
   "cell_type": "markdown",
   "id": "43babfb1-1fb7-426c-9632-1d67f558223e",
   "metadata": {},
   "source": [
    "## Low-noise dataset"
   ]
  },
  {
   "cell_type": "markdown",
   "id": "7542029a-b7cd-4140-8ffd-7eb51ba35153",
   "metadata": {},
   "source": [
    "As a reference we show some laboratory measurements with high end measurement equipment.  \n",
    "This data has a very good signal to noise ratio. "
   ]
  },
  {
   "cell_type": "code",
   "execution_count": 5,
   "id": "ede96921-50f4-4d87-aeb7-f25f693464a5",
   "metadata": {},
   "outputs": [
    {
     "data": {
      "image/png": "[encoded data removed]",
      "text/plain": [
       "<Figure size 640x480 with 1 Axes>"
      ]
     },
     "metadata": {},
     "output_type": "display_data"
    }
   ],
   "source": [
    "_ = df_current_lab_low_noise.T.plot(xlabel='t in ms', ylabel='current in mA')"
   ]
  },
  {
   "cell_type": "markdown",
   "id": "37ac3b10-5e9b-4b46-822c-a8f2a35b0443",
   "metadata": {},
   "source": [
    "## Valve insight eval kit"
   ]
  },
  {
   "cell_type": "markdown",
   "id": "4007ffb3-6f77-4ca2-a79c-2e24a93f51d4",
   "metadata": {},
   "source": [
    "Below we show data aquired with the valve insight eval kit for successful and unsuccessful switching.  \n",
    "The noise level is higher, but still small enough for an analysis. "
   ]
  },
  {
   "cell_type": "code",
   "execution_count": 6,
   "id": "2153acaa-9aa7-42b4-bb19-88d842f9d2e3",
   "metadata": {},
   "outputs": [],
   "source": [
    "t_ms = df_current.columns.astype(float)"
   ]
  },
  {
   "cell_type": "code",
   "execution_count": 7,
   "id": "e022ec4a-06cf-401b-875d-0c17bdb86f0a",
   "metadata": {},
   "outputs": [
    {
     "data": {
      "image/png": "[encoded data removed]",
      "text/plain": [
       "<Figure size 500x300 with 1 Axes>"
      ]
     },
     "metadata": {},
     "output_type": "display_data"
    }
   ],
   "source": [
    "fig, ax = plt.subplots(figsize=(5, 3))\n",
    "\n",
    "label_success = False\n",
    "label_fault = False\n",
    "for i in df_params.index:\n",
    "    if df_params['fault'].loc[i] == False:\n",
    "        label = None\n",
    "        alpha = 0.2\n",
    "        if not label_success:\n",
    "            label = 'success'\n",
    "            label_success = True\n",
    "        ax.plot(t_ms, df_current.loc[i], 'tab:blue', zorder=-199, label=label, linewidth=1, rasterized=True)\n",
    "    else:\n",
    "        label = None\n",
    "        if not label_fault:\n",
    "            label = 'fault'\n",
    "            alpha = 1\n",
    "            label_fault = True\n",
    "        ax.plot(t_ms, df_current.loc[i], 'tab:red', alpha=alpha, zorder=-99, label=label, linewidth=1, rasterized=True)\n",
    "\n",
    "ax.set_xlabel('time in ms')\n",
    "ax.set_ylabel('current in mA')\n",
    "_ = ax.legend(loc='best')"
   ]
  },
  {
   "cell_type": "markdown",
   "id": "f58f460e-632c-461c-a491-07d8747a5e7d",
   "metadata": {},
   "source": [
    "# Switching detection"
   ]
  },
  {
   "cell_type": "markdown",
   "id": "87692f73-3aba-4c63-9e4d-4c846d3d2f33",
   "metadata": {},
   "source": [
    "\n",
    "|                   | CPU Usage    | Memory usage            | Output quality   | Result Availability   | Parameter scope (*)       |\n",
    "|-------------------|--------------|-------------------------|------------------|-----------------------|---------------------------|\n",
    "| Static            | Low          | Full current curve      | High             | Post-acquisition      | Fixed set of parameters   |\n",
    "| Tail slope check  | High         | Full current curve      | High             | Post-acquisition      | Broad range of parameters |\n",
    "| Online            | Very low     | Sliding window          | Estimated        | During acquisition    | Fixed set of parameters   |\n",
    "\n",
    "(*) Parameter scope entails various temperatures, pressures, operation times, ...\n"
   ]
  },
  {
   "cell_type": "markdown",
   "id": "9f0cc2ec-7406-4080-9ffe-6c3b770c4d3b",
   "metadata": {},
   "source": [
    "## Switching detection - static\n",
    "\n",
    "This is the most simple form of the switching detection algorithm. It is preferred for any application, as it is the most stable.  \n",
    "\n",
    "Implementation in an application will be as follows: \n",
    "- The inrush current is measured as a function of time.\n",
    "- The switching detection algorithm calculates an integral value of the inrush current.\n",
    "- If the integral value is above a threshold the valve switching was successful. "
   ]
  },
  {
   "cell_type": "code",
   "execution_count": 8,
   "id": "821a9c85-746d-483f-9e5f-0fd5349faa34",
   "metadata": {},
   "outputs": [],
   "source": [
    "U = 24  # V\n",
    "\n",
    "integrals = []\n",
    "tail_means = []\n",
    "for i in df_params.index:\n",
    "    I = df_current.loc[i].to_numpy()\n",
    "    integral, tail_mean = vi.switching_detection_fixed(t_ms, I*U)\n",
    "    integrals.append(integral)\n",
    "    tail_means.append(tail_mean)\n",
    "\n",
    "df_params['integral - static'] = integrals\n",
    "df_params['tail mean - static'] = tail_means"
   ]
  },
  {
   "cell_type": "code",
   "execution_count": 9,
   "id": "ed570d76-fd44-4369-9092-bf1db7373265",
   "metadata": {},
   "outputs": [
    {
     "data": {
      "image/png": "[encoded data removed]",
      "text/plain": [
       "<Figure size 500x300 with 1 Axes>"
      ]
     },
     "metadata": {},
     "output_type": "display_data"
    }
   ],
   "source": [
    "plt.figure(figsize=(5, 3))  \n",
    "_ = sns.boxplot(x='fault', y='integral - static', hue='fault', data=df_params, legend=False)"
   ]
  },
  {
   "cell_type": "markdown",
   "id": "1452c52b-2ff0-426b-bb39-06c80cfc3802",
   "metadata": {},
   "source": [
    "The boxplot shows the separation of the valve switching fault states 'True' and 'False' by the integral.  \n",
    "Successful switching (swichting fault state = 'False') has some outliers. These outliers mark cases where the valve opened partially. However the valve stroke was still good enough for 90% flow to pass the valve. "
   ]
  },
  {
   "cell_type": "markdown",
   "id": "3a8c25a2-6109-47d0-a74a-8aa19911f852",
   "metadata": {},
   "source": [
    "## Switching detection - tail slope check\n",
    "\n",
    "If the application must work over a wide range of pressures and temperature ranges, a fixed measurement duration as required by the static algorithm can pose some problems.  \n",
    "I.e. the switching duration might be longer in some corner cases and using the longest duration in general with the static algorithm will lead to the tail_mean being obscured by temperature effects.  \n",
    "In this case it is more stable to use the algorithm below, which stops integration, once the tail mean slope is small enough. \n",
    "\n",
    "Implementation in an application will be as follows:\n",
    "- The inrush current is measured as a function of time.\n",
    "- The switching detection algorithm calculates an integral value of the inrush current.\n",
    "- If the integral value is above a threshold the valve switching was successful. "
   ]
  },
  {
   "cell_type": "code",
   "execution_count": 10,
   "id": "8c50e8a4-25fb-473a-84b3-f78abf4e97d3",
   "metadata": {},
   "outputs": [],
   "source": [
    "U = 24  # V\n",
    "\n",
    "integrals = []\n",
    "tail_means = []\n",
    "for i in df_params.index:\n",
    "    I = df_current.loc[i].to_numpy()\n",
    "    integral, tail_mean = vi.switching_detection_tail_slope(t_ms, I*U)\n",
    "    integrals.append(integral)\n",
    "    tail_means.append(tail_mean)\n",
    "\n",
    "df_params['integral - tail slope'] = integrals\n",
    "df_params['tail mean - tail slope'] = tail_means"
   ]
  },
  {
   "cell_type": "code",
   "execution_count": 11,
   "id": "60bbeff2-4859-460d-afdc-28e188339c38",
   "metadata": {},
   "outputs": [
    {
     "data": {
      "image/png": "[encoded data removed]",
      "text/plain": [
       "<Figure size 500x300 with 1 Axes>"
      ]
     },
     "metadata": {},
     "output_type": "display_data"
    }
   ],
   "source": [
    "plt.figure(figsize=(5, 3))  \n",
    "_ = sns.boxplot(x='fault', y='integral - tail slope', hue='fault', data=df_params, legend=False)"
   ]
  },
  {
   "cell_type": "markdown",
   "id": "f317b951-a22f-4396-9a5a-759a24bec61c",
   "metadata": {},
   "source": [
    "Overall the boxplot shows the same values as the one for the static algorithm. "
   ]
  },
  {
   "cell_type": "markdown",
   "id": "d9ba9fc9-202b-4174-8663-6adcd741ab7d",
   "metadata": {},
   "source": [
    "## Switching detection - online algorithm"
   ]
  },
  {
   "cell_type": "markdown",
   "id": "45e97e16-236d-4c8f-bcb9-c7672a726c30",
   "metadata": {},
   "source": [
    "The algorithms above require you to capture the complete current curve. After the data acquisition is complete, the algorithms do their calculation.  \n",
    "The algorithm below does an estimation of the integral value from the algorithms above that works online. I.e. it updates the integral value during the data acquisiton. \n",
    "\n",
    "*Advantages:*\n",
    " - Less memory required  \n",
    "   Tail mean window can be made much smaller if necessary.\n",
    " - Results available faster\n",
    "\n",
    "*Disadvantages:*\n",
    " - Estimation only (albeit a good one)\n",
    "  \n",
    "&nbsp;\n",
    "&nbsp;\n",
    "\n",
    "**Implementation** in an application will be as follows:\n",
    "\n",
    "For one timestep: \n",
    "- The inrush current is measured.\n",
    "- Feed the inrush current to the switching detection algorithm.\n",
    "- If enough data has been accumulated the switching detection algorithm returns an integral value.\n",
    "\n",
    "Repeat until:\n",
    "- If at any point the integral value is above the threshold, the valve switching is successful.\n",
    "- If a preset duration is over (a multiples of the typical switching duration) without the integral value reaching the threshold, the valve switching is unsuccessful. "
   ]
  },
  {
   "cell_type": "code",
   "execution_count": 12,
   "id": "64ee8b53-649c-4b39-88f5-e55b182ab549",
   "metadata": {},
   "outputs": [],
   "source": [
    "integrals = []\n",
    "tail_means = []\n",
    "\n",
    "for i in df_params.index:\n",
    "    swdo = vi.switching_detection_online()\n",
    "    I = df_current.loc[i].to_numpy()\n",
    "    timestep_ms = t_ms[1] - t_ms[0]\n",
    "    \n",
    "    # Simulate point by point acquisition and feed data to algorithm with a for loop\n",
    "    for Ii in I:\n",
    "        integral, tail_mean = swdo.switching_detection_online(Ii, timestep_ms)\n",
    "\n",
    "    integrals.append(integral)\n",
    "    tail_means.append(tail_mean)\n",
    "\n",
    "df_params['integral - online'] = integrals\n",
    "df_params['tail mean - online'] = tail_means"
   ]
  },
  {
   "cell_type": "code",
   "execution_count": 13,
   "id": "08053d31-4210-42b2-9703-2bb53cc63a39",
   "metadata": {},
   "outputs": [
    {
     "data": {
      "image/png": "[encoded data removed]",
      "text/plain": [
       "<Figure size 500x300 with 1 Axes>"
      ]
     },
     "metadata": {},
     "output_type": "display_data"
    }
   ],
   "source": [
    "plt.figure(figsize=(5, 3))  \n",
    "_ = sns.boxplot(x='fault', y='integral - online', hue='fault', data=df_params, legend=False)"
   ]
  },
  {
   "cell_type": "markdown",
   "id": "63d06254-2e26-459b-a5c1-61bbe898c0aa",
   "metadata": {},
   "source": [
    "The boxplot shows the same values as for the static algorithm."
   ]
  },
  {
   "cell_type": "markdown",
   "id": "6e6b6ddc-0cbc-4100-ada9-6455c966fe7b",
   "metadata": {},
   "source": [
    "# Switching duration"
   ]
  },
  {
   "cell_type": "markdown",
   "id": "edb63451-19c3-4433-97f6-e9460ea166e3",
   "metadata": {},
   "source": [
    "To estimate the valve switching duration, we present several algorithms:\n",
    "\n",
    "1. Inside Band Method (based on Semi E17-1011 standard):  \n",
    "This approach defines a successful switching event as one where all current values remain within a specified band around the final steady-state current. It offers high reliability and is aligned with established industry standards.  \n",
    "\n",
    "2. Integral Threshold Method:\n",
    "This method uses the same integral calculation as in the switching detection algorithm. It determines the switching duration by identifying the point in time when the integral value first exceeds the predefined threshold for successful switching.\n",
    "\n",
    "3. Online algorithm:\n",
    "An algorithm that works during data acquisition and stops as soon as switching is complete.\n",
    "\n",
    "Both methods are designed for post-acquisition analysis and support a broad range of operating conditions.\n",
    "\n",
    "|                    | CPU Usage    | Memory usage            | Output quality   | Result Availability   | Parameter scope (*)          |\n",
    "|--------------------|--------------|-------------------------|------------------|-----------------------|------------------------------|\n",
    "| Inside band        | Low          | Full current curve      | High             | Post-acquisition      |  Broad range of parameters   |\n",
    "| Integral threshold | Medium       | Full current curve      | High             | Post-acquisition      |  Broad range of parameters   |\n",
    "| Online             | High         | Sliding window          | High             | During acquisistion   |  Broad range of parameters   |\n",
    "\n",
    "(*) Parameter scope entails various temperatures, pressures, operation times, ..."
   ]
  },
  {
   "cell_type": "code",
   "execution_count": 14,
   "id": "065454aa-ac7b-4304-a64b-ca46f517bd5b",
   "metadata": {},
   "outputs": [],
   "source": [
    "def plot_duration(s):\n",
    "    fig, ax = plt.subplots(figsize=(5, 3))\n",
    "    \n",
    "    idx = df_params['fault'] == False\n",
    "    ax.plot(df_params[idx][s], '.', color='tab:blue', label='switching successful')\n",
    "    idx = df_params['fault'] == True\n",
    "    ax.plot(df_params[idx][s], '.', color='tab:red', label='switching fault')\n",
    "    \n",
    "    ax.set_xlabel('experiment number')\n",
    "    ax.set_ylabel('switching time - inside band - in ms')\n",
    "    ax.legend(loc='best')\n",
    "    \n",
    "    return fig, ax"
   ]
  },
  {
   "cell_type": "markdown",
   "id": "c34e993d-f4ec-4480-929c-49b4a9e15393",
   "metadata": {},
   "source": [
    "## Switching duration - inside band"
   ]
  },
  {
   "cell_type": "code",
   "execution_count": 15,
   "id": "72b551be-3594-4f64-a2ca-f0d98e016550",
   "metadata": {},
   "outputs": [],
   "source": [
    "switching_durations = []\n",
    "for i in df_params.index:\n",
    "    I = df_current.loc[i].to_numpy()\n",
    "    duration = vi.switching_duration_inside_band(t_ms, I, band=0.1)\n",
    "    switching_durations.append(duration)\n",
    "\n",
    "df_params['switching duration - inside band - in ms'] = switching_durations"
   ]
  },
  {
   "cell_type": "code",
   "execution_count": 16,
   "id": "61c6c7db-1c45-4e0c-b9de-aac62526bba3",
   "metadata": {},
   "outputs": [
    {
     "data": {
      "image/png": "[encoded data removed]",
      "text/plain": [
       "<Figure size 500x300 with 1 Axes>"
      ]
     },
     "metadata": {},
     "output_type": "display_data"
    }
   ],
   "source": [
    "_ = plot_duration('switching duration - inside band - in ms')"
   ]
  },
  {
   "cell_type": "markdown",
   "id": "262b2094-3544-461b-9433-47be81cfdb79",
   "metadata": {},
   "source": [
    "The figure shows the switching time per measurement. \n",
    "\n",
    "*Caveat* It looks that from the switching time, a valve switching fault can be detected. However, this is not robust for different temperatures, pressures and valves. Always use a switching detection algorithm for this information. "
   ]
  },
  {
   "cell_type": "markdown",
   "id": "39142b87-cc38-4dcc-9794-cd77e4b67f70",
   "metadata": {},
   "source": [
    "## Switching duration - integral threshold"
   ]
  },
  {
   "cell_type": "code",
   "execution_count": 17,
   "id": "33572e7e-1e37-426f-bab6-0f0814b76efc",
   "metadata": {},
   "outputs": [],
   "source": [
    "switching_durations = []\n",
    "for i in df_params.index:\n",
    "    I = df_current.loc[i].to_numpy()\n",
    "    duration = vi.switching_duration_integral_threshold(t_ms, I, integral_threshold=0.8)\n",
    "    switching_durations.append(duration)\n",
    "\n",
    "df_params['switching duration - inside band - in ms'] = switching_durations"
   ]
  },
  {
   "cell_type": "code",
   "execution_count": 18,
   "id": "01965826-80a6-42e1-beb8-3ae60f421f3a",
   "metadata": {},
   "outputs": [
    {
     "data": {
      "image/png": "[encoded data removed]",
      "text/plain": [
       "<Figure size 500x300 with 1 Axes>"
      ]
     },
     "metadata": {},
     "output_type": "display_data"
    }
   ],
   "source": [
    "fig, ax = plot_duration('switching duration - inside band - in ms')\n",
    "_ = ax.set_ylim(0, 5)"
   ]
  },
  {
   "cell_type": "markdown",
   "id": "90220e67-cce6-4a52-8336-a1382aa8f348",
   "metadata": {},
   "source": [
    "## Switching duration - online algorithm"
   ]
  },
  {
   "cell_type": "code",
   "execution_count": 19,
   "id": "adcec2a3-4fcc-4058-bd30-567a3f175a4c",
   "metadata": {},
   "outputs": [],
   "source": [
    "switching_durations = []\n",
    "for i in df_params.index:\n",
    "    swdo = vi.switching_duration_online(tail_slope_max=0.2)\n",
    "    I = df_current.loc[i].to_numpy()\n",
    "    timestep_ms = t_ms[1] - t_ms[0]\n",
    "    \n",
    "    # Simulate point by point acquisition and feed data to algorithm with a for loop\n",
    "    for Ii in I:\n",
    "        duration = swdo.switching_duration_online(Ii, timestep_ms)\n",
    "        if not np.isnan(duration):\n",
    "            break\n",
    "\n",
    "    switching_durations.append(duration)\n",
    "\n",
    "df_params['switching duration - online - in ms'] = switching_durations"
   ]
  },
  {
   "cell_type": "code",
   "execution_count": 20,
   "id": "53f0340e-5a1a-4ffc-9295-1f97e9c62998",
   "metadata": {},
   "outputs": [
    {
     "data": {
      "image/png": "[encoded data removed]",
      "text/plain": [
       "<Figure size 500x300 with 1 Axes>"
      ]
     },
     "metadata": {},
     "output_type": "display_data"
    }
   ],
   "source": [
    "_ = plot_duration('switching duration - online - in ms')"
   ]
  },
  {
   "cell_type": "markdown",
   "id": "893879c0-478a-4145-b644-2b8f64db852f",
   "metadata": {},
   "source": [
    "# C algorithms"
   ]
  },
  {
   "cell_type": "markdown",
   "id": "d017dfa0-6a3a-450a-b67d-4a890e8987d8",
   "metadata": {},
   "source": [
    "Export some data for the unit tests of the C algorithms or for other tests.  \n",
    "Check some of the algorithms against python libraries.  "
   ]
  },
  {
   "cell_type": "markdown",
   "id": "27877b7b-d6b0-4d70-8150-e0c081bed9d3",
   "metadata": {},
   "source": [
    "## Export data set - Successful switching\n",
    "\n",
    "Scale to range of int16_t and export to be used in unit tests. "
   ]
  },
  {
   "cell_type": "code",
   "execution_count": 21,
   "id": "1a06b559-823a-4122-9fbf-ae4c89af39fd",
   "metadata": {},
   "outputs": [],
   "source": [
    "curr_scale_to_use_uint16_range = 500"
   ]
  },
  {
   "cell_type": "code",
   "execution_count": 22,
   "id": "f51d6211-8bb6-4232-a0e0-0815edb21618",
   "metadata": {},
   "outputs": [],
   "source": [
    "def convert_current_to_C(idx, scale):\n",
    "    curr = df_current.loc[idx].round(2).to_numpy()\n",
    "    curr *= scale\n",
    "    curr = curr.astype(int)\n",
    "    return curr\n",
    "\n",
    "def export_current_to_C(curr):\n",
    "    formatted = ', '.join(f\"{x}\" for x in curr)\n",
    "    c_array_str = f\"{{ {formatted} }}\"\n",
    "    print(c_array_str)"
   ]
  },
  {
   "cell_type": "code",
   "execution_count": 23,
   "id": "908233b4-31fa-452d-a152-b934a58ae3ae",
   "metadata": {},
   "outputs": [
    {
     "name": "stdout",
     "output_type": "stream",
     "text": [
      "{ 14635, 21495, 22855, 23315, 23290, 23035, 22710, 22430, 22060, 21675, 21355, 20920, 20585, 20300, 19995, 19725, 19365, 19125, 18865, 18625, 18455, 18175, 18010, 17765, 17520, 17420, 17150, 16995, 16855, 16675, 16485, 16370, 16265, 16239, 16110, 16045, 15930, 15780, 15750, 15675, 15675, 15610, 15560, 15610, 15610, 15675, 15675, 15675, 15740, 15780, 15780, 15945, 15970, 16075, 16149, 16239, 16405, 16495, 16715, 16920, 17035, 17280, 17430, 17650, 17880, 18110, 18365, 18660, 18865, 19215, 19445, 19765, 20110, 20300, 20685, 20890, 21175, 21535, 21700, 22060, 22240, 22455, 22775, 22865, 23110, 23315, 23390, 23595, 23700, 23840, 24030, 24070, 24200, 24250, 24290, 24415, 24440, 24530, 24480, 24480, 24545, 24560, 24560, 24595, 24480, 24585, 24530, 24495, 24585, 24530, 24545, 24480, 24415, 24480, 24440, 24440, 24440, 24380, 24380, 24315, 24355, 24415, 24380, 24405, 24380, 24315, 24405, 24355, 24405, 24355, 24315, 24380, 24355, 24405, 24415, 24355, 24440, 24405, 24380, 24440, 24440, 24470, 24470, 24415, 24480, 24470, 24480, 24530, 24470, 24545, 24530, 24530, 24595, 24570, 24595, 24595, 24570, 24635, 24595, 24635, 24635, 24595, 24650, 24650, 24710, 24765, 24710, 24765, 24765, 24710, 24800, 24735, 24790, 24790, 24765, 24790, 24790, 24765, 24790, 24790, 24825, 24800, 24765, 24855, 24800, 24855, 24855, 24800, 24855, 24815, 24840, 24905, 24790, 24855, 24840, 24855, 24915, 24890, 24890, 24905, 24855, 24915, 24905, 24915, 24915, 24855, 24915, 24915, 24905, 24940, 24915, 24970, 24915, 24915, 24940, 24940, 24940, 24940, 24915, 24915, 24915, 24940, 24995, 24915, 24970, 24970, 24940, 24995, 24970, 24995, 24970, 24940, 24970, 24970, 25030, 25030, 24915, 24970, 24940, 24940, 25030, 24970, 24995, 25060, 24970, 25030, 24970, 24995, 24995, 24915, 24995, 24970, 24995, 25030, 24970, 25030, 24970, 24940, 24995, 24970, 25030, 24995, 24970, 25030, 24995, 24995, 25070, 25030, 25070, 25030, 24995, 25070, 25030, 25095, 25060, 25030, 25030, 24970, 25060, 25095, 25030, 25060, 25030, 25030, 25070, 25030, 25095, 25070, 25030, 25095, 25060, 25095, 25070, 24995, 25070, 25060, 25030, 25095, 24995, 25070, 25070, 25060, 25120, 25030, 25095, 25095, 25030, 25070, 25030, 25070, 25120, 25030, 25120, 25070, 25095, 25135, 25095, 25095, 25095, 25060, 25095, 25095, 25120, 25120, 25030, 25120, 25095, 25120, 25135, 25120, 25120, 25095, 25070, 25135, 25120, 25120, 25120, 25060, 25070, 25070, 25095, 25135, 25095, 25120, 25095, 25120, 25160, 25120, 25160, 25135, 25070, 25120, 25095, 25120, 25120, 25120, 25160, 25135, 25120, 25210, 25135, 25210, 25135, 25120, 25160, 25135, 25185, 25185, 25120, 25185, 25135, 25160, 25210, 25160, 25185, 25160, 25120, 25225, 25120, 25185, 25175, 25120, 25225, 25135, 25160, 25225, 25160, 25225, 25185, 25120, 25235, 25160, 25185, 25185, 25135, 25210, 25160, 25210, 25185, 25135, 25185, 25160, 25185, 25225, 25210, 25235, 25210, 25160, 25250, 25185, 25225, 25225, 25120, 25225, 25160, 25175, 25250, 25185, 25185, 25185, 25160, 25250, 25210, 25225, 25225, 25160, 25225, 25185, 25210, 25250, 25160, 25225, 25185, 25160, 25250, 25160, 25210, 25185, 25120, 25160, 25135, 25160, 25185, 25120, 25225, 25160, 25160, 25225, 25175, 25225, 25185, 25120, 25210, 25160, 25185, 25185, 25120, 25185, 25135, 25135, 25250, 25185, 25225, 25185, 25160, 25225, 25185, 25235, 25185, 25120, 25160, 25185, 25160, 25210, 25120, 25185, 25160, 25160, 25185, 25160, 25250, 25160, 25160, 25160, 25160, 25185, 25225, 25135, 25225, 25160, 25160, 25225, 25210, 25250, 25185, 25135, 25250, 25175, 25210, 25160 }\n"
     ]
    }
   ],
   "source": [
    "switching_successful_idx = 0\n",
    "curr = convert_current_to_C(switching_successful_idx, curr_scale_to_use_uint16_range)\n",
    "export_current_to_C(curr)"
   ]
  },
  {
   "cell_type": "markdown",
   "id": "8eee5a7b-57de-476e-87b5-dc7a78d3164f",
   "metadata": {},
   "source": [
    "## Export data set - Unsuccessful switching"
   ]
  },
  {
   "cell_type": "code",
   "execution_count": 24,
   "id": "ae1c5200-c6cf-4785-9791-4337d86e3570",
   "metadata": {},
   "outputs": [
    {
     "name": "stdout",
     "output_type": "stream",
     "text": [
      "{ 14165, 21160, 22570, 23150, 23120, 22855, 22595, 22265, 21905, 21570, 21175, 20840, 20520, 20200, 19880, 19535, 19330, 19045, 18805, 18650, 18330, 18175, 17880, 17650, 17510, 17305, 17110, 16995, 17635, 19455, 21240, 22865, 23765, 24120, 24200, 23970, 23750, 23865, 24175, 24765, 25070, 25060, 24970, 24650, 24610, 24735, 24890, 25070, 25135, 25120, 25160, 25120, 25160, 25095, 25030, 24970, 24915, 24970, 24995, 24940, 24970, 24970, 24970, 25030, 24940, 24970, 24970, 24940, 25030, 24970, 24915, 24940, 24915, 25030, 25030, 24995, 25030, 24970, 24995, 24940, 24915, 24995, 24970, 25030, 24995, 24915, 25030, 25030, 25070, 25160, 25095, 25095, 25095, 25060, 25095, 25070, 25095, 25095, 25030, 25070, 25070, 25070, 25095, 25030, 25095, 25070, 25030, 25120, 25030, 25060, 25030, 25030, 25070, 25020, 25070, 25070, 25020, 25120, 25070, 25070, 25095, 25070, 25120, 25120, 25060, 25070, 25060, 25095, 25095, 25060, 25120, 25070, 25120, 25135, 25095, 25120, 25095, 25095, 25120, 25070, 25135, 25095, 25060, 25095, 25070, 25120, 25120, 25070, 25120, 25095, 25070, 25135, 25120, 25120, 25120, 25070, 25070, 25095, 25120, 25120, 25070, 25120, 25070, 25120, 25120, 25120, 25120, 25095, 25095, 25160, 25120, 25120, 25120, 25095, 25120, 25095, 25120, 25175, 25120, 25135, 25120, 25095, 25160, 25135, 25135, 25160, 25120, 25160, 25120, 25120, 25160, 25095, 25160, 25120, 25120, 25175, 25120, 25185, 25160, 25095, 25160, 25120, 25160, 25160, 25095, 25160, 25120, 25120, 25225, 25135, 25210, 25160, 25120, 25185, 25120, 25185, 25210, 25160, 25185, 25160, 25160, 25210, 25185, 25250, 25185, 25135, 25250, 25185, 25250, 25185, 25120, 25185, 25160, 25185, 25250, 25185, 25225, 25160, 25185, 25250, 25185, 25250, 25235, 25185, 25250, 25185, 25250, 25250, 25160, 25250, 25210, 25210, 25275, 25250, 25250, 25250, 25175, 25250, 25225, 25250, 25250, 25185, 25250, 25225, 25225, 25250, 25235, 25250, 25225, 25210, 25250, 25235, 25250, 25250, 25210, 25250, 25210, 25250, 25250, 25185, 25250, 25185, 25225, 25250, 25250, 25275, 25250, 25160, 25210, 25185, 25250, 25250, 25185, 25225, 25210, 25185, 25250, 25235, 25250, 25210, 25160, 25235, 25160, 25225, 25210, 25160, 25185, 25185, 25160, 25225, 25160, 25225, 25210, 25120, 25250, 25160, 25225, 25235, 25135, 25225, 25185, 25185, 25250, 25175, 25250, 25185, 25210, 25250, 25185, 25225, 25225, 25160, 25235, 25160, 25185, 25210, 25160, 25210, 25175, 25185, 25250, 25160, 25235, 25210, 25160, 25225, 25210, 25185, 25225, 25135, 25210, 25160, 25160, 25250, 25185, 25225, 25160, 25175, 25250, 25160, 25225, 25225, 25120, 25225, 25225, 25185, 25225, 25160, 25185, 25160, 25160, 25250, 25185, 25210, 25185, 25120, 25250, 25225, 25225, 25250, 25160, 25225, 25225, 25185, 25250, 25250, 25250, 25185, 25210, 25235, 25210, 25225, 25250, 25160, 25250, 25210, 25185, 25275, 25210, 25235, 25175, 25185, 25250, 25225, 25250, 25250, 25160, 25250, 25185, 25250, 25250, 25225, 25250, 25235, 25225, 25275, 25225, 25275, 25250, 25225, 25235, 25225, 25250, 25250, 25210, 25250, 25225, 25225, 25275, 25250, 25275, 25250, 25250, 25250, 25250, 25275, 25275, 25225, 25235, 25225, 25225, 25300, 25250, 25275, 25250, 25225, 25275, 25225, 25250, 25250, 25185, 25250, 25210, 25250, 25275, 25235, 25250, 25250, 25250, 25275, 25250, 25275, 25250, 25185, 25250, 25250, 25250, 25250, 25185, 25250, 25235, 25235, 25250, 25225, 25250, 25235, 25160, 25300, 25250, 25250, 25250, 25210, 25250, 25225, 25250, 25250, 25250, 25250, 25210, 25160, 25250, 25225, 25250, 25225, 25160, 25235, 25185, 25185, 25250, 25160 }\n"
     ]
    }
   ],
   "source": [
    "switching_fault_idx = 18\n",
    "curr = convert_current_to_C(switching_fault_idx, curr_scale_to_use_uint16_range)\n",
    "export_current_to_C(curr)"
   ]
  },
  {
   "cell_type": "markdown",
   "id": "52e3b0b6-c0fc-42e4-8aac-7425c0ee22b4",
   "metadata": {},
   "source": [
    "## Expected results for C unit test"
   ]
  },
  {
   "cell_type": "markdown",
   "id": "adf957ba-09bc-4896-b360-76956b4ec6f2",
   "metadata": {},
   "source": [
    "### Switching detection static"
   ]
  },
  {
   "cell_type": "code",
   "execution_count": 25,
   "id": "e46d5d76-a7ad-4673-a4c7-b54b4d05dfb0",
   "metadata": {},
   "outputs": [
    {
     "name": "stdout",
     "output_type": "stream",
     "text": [
      "Switching successful. Integral: 1.3, Tail-Mean: 25157.725\n",
      "Switching fault. Integral: 0.41, Tail-Mean: 25219.275\n"
     ]
    }
   ],
   "source": [
    "curr = convert_current_to_C(switching_successful_idx, curr_scale_to_use_uint16_range)\n",
    "res = vi.switching_detection_fixed(t_ms, curr)\n",
    "print(f'Switching successful. Integral: {res[0]}, Tail-Mean: {res[1]}')\n",
    "\n",
    "curr = convert_current_to_C(switching_fault_idx, curr_scale_to_use_uint16_range)\n",
    "res = vi.switching_detection_fixed(t_ms, curr)\n",
    "print(f'Switching fault. Integral: {res[0]}, Tail-Mean: {res[1]}')"
   ]
  },
  {
   "cell_type": "markdown",
   "id": "74d316a7-b894-437e-88f8-1389856d649f",
   "metadata": {},
   "source": [
    "### Switching detection - tail slope check"
   ]
  },
  {
   "cell_type": "code",
   "execution_count": 26,
   "id": "f114f22a-7904-4921-99e2-9f06e9533f30",
   "metadata": {},
   "outputs": [
    {
     "name": "stdout",
     "output_type": "stream",
     "text": [
      "Switching successful. Integral: 1.3, Tail-Mean: 25157.725\n",
      "Switching fault. Integral: 0.41, Tail-Mean: 25211.8\n"
     ]
    }
   ],
   "source": [
    "curr = convert_current_to_C(switching_successful_idx, curr_scale_to_use_uint16_range)\n",
    "res = vi.switching_detection_tail_slope(t_ms, curr, slope_threshold=0.002*curr_scale_to_use_uint16_range)\n",
    "print(f'Switching successful. Integral: {res[0]}, Tail-Mean: {res[1]}')\n",
    "\n",
    "curr = convert_current_to_C(switching_fault_idx, curr_scale_to_use_uint16_range)\n",
    "res = vi.switching_detection_tail_slope(t_ms, curr, slope_threshold=0.002*curr_scale_to_use_uint16_range)\n",
    "print(f'Switching fault. Integral: {res[0]}, Tail-Mean: {res[1]}')"
   ]
  },
  {
   "cell_type": "markdown",
   "id": "a7d6c137-5676-4eeb-9456-4fb337febb65",
   "metadata": {},
   "source": [
    "### Switching detection - online algorithm"
   ]
  },
  {
   "cell_type": "code",
   "execution_count": 27,
   "id": "ed9c7afa-349f-4123-b712-8f67e60f974e",
   "metadata": {},
   "outputs": [
    {
     "name": "stdout",
     "output_type": "stream",
     "text": [
      "Switching successful. Integral: 1.3, Tail-Mean: 25157.725\n",
      "Switching fault. Integral: 0.41, Tail-Mean: 25219.275\n"
     ]
    }
   ],
   "source": [
    "curr = convert_current_to_C(switching_successful_idx, curr_scale_to_use_uint16_range)\n",
    "swdo = vi.switching_detection_online()\n",
    "for Ii in curr:\n",
    "    integral, tail_mean = swdo.switching_detection_online(Ii, timestep_ms)\n",
    "print(f'Switching successful. Integral: {integral}, Tail-Mean: {tail_mean}')\n",
    "\n",
    "curr = convert_current_to_C(switching_fault_idx, curr_scale_to_use_uint16_range)\n",
    "swdo = vi.switching_detection_online()\n",
    "for Ii in curr:\n",
    "    integral, tail_mean = swdo.switching_detection_online(Ii, timestep_ms)\n",
    "print(f'Switching fault. Integral: {integral}, Tail-Mean: {tail_mean}')"
   ]
  },
  {
   "cell_type": "markdown",
   "id": "0833276a-d85a-456f-8ae3-0091c23ec0b8",
   "metadata": {},
   "source": [
    "### Switching duration - inside band"
   ]
  },
  {
   "cell_type": "code",
   "execution_count": 36,
   "id": "a6ab7c9d-8627-4441-9d6e-1a65bdf16ed8",
   "metadata": {},
   "outputs": [
    {
     "name": "stdout",
     "output_type": "stream",
     "text": [
      "Switching successful. Duration: 4.1\n",
      "Switching successful. Duration: 1.55\n"
     ]
    }
   ],
   "source": [
    "curr = convert_current_to_C(switching_successful_idx, curr_scale_to_use_uint16_range)\n",
    "duration = vi.switching_duration_inside_band(t_ms, curr, band=0.1)\n",
    "print(f'Switching successful. Duration: {duration}')\n",
    "\n",
    "curr = convert_current_to_C(switching_fault_idx, curr_scale_to_use_uint16_range)\n",
    "duration = vi.switching_duration_inside_band(t_ms, curr, band=0.1)\n",
    "print(f'Switching successful. Duration: {duration}')"
   ]
  },
  {
   "cell_type": "markdown",
   "id": "20c7b114-6a17-4d6f-a97b-6d868319af02",
   "metadata": {},
   "source": [
    "### Switching duration - integral threshold"
   ]
  },
  {
   "cell_type": "code",
   "execution_count": 37,
   "id": "7693cfd3-a06d-401f-b529-19d7a047d609",
   "metadata": {},
   "outputs": [
    {
     "name": "stdout",
     "output_type": "stream",
     "text": [
      "Switching successful. Duration: 2.75\n",
      "Switching successful. Duration: 24.95\n"
     ]
    }
   ],
   "source": [
    "curr = convert_current_to_C(switching_successful_idx, curr_scale_to_use_uint16_range)\n",
    "duration = vi.switching_duration_integral_threshold(t_ms, curr)\n",
    "print(f'Switching successful. Duration: {duration}')\n",
    "\n",
    "curr = convert_current_to_C(switching_fault_idx, curr_scale_to_use_uint16_range)\n",
    "duration = vi.switching_duration_integral_threshold(t_ms, curr)\n",
    "print(f'Switching successful. Duration: {duration}')"
   ]
  },
  {
   "cell_type": "markdown",
   "id": "18aab480-7b4e-4692-8f9c-8d6b0f353d4a",
   "metadata": {},
   "source": [
    "### Switching duration - online algorithm"
   ]
  },
  {
   "cell_type": "code",
   "execution_count": 40,
   "id": "7ab80cdc-010f-4fe9-a4ce-cb7386b9e4c7",
   "metadata": {},
   "outputs": [],
   "source": [
    "def simulate_duration_online(curr):\n",
    "    swdo = vi.switching_duration_online(tail_slope_max=0.2*curr_scale_to_use_uint16_range)\n",
    "    for Ii in curr:\n",
    "        duration = swdo.switching_duration_online(Ii, timestep_ms)\n",
    "        if not np.isnan(duration):\n",
    "            break\n",
    "    return np.round(duration, 2)"
   ]
  },
  {
   "cell_type": "code",
   "execution_count": 41,
   "id": "9f937359-8fd9-448f-949b-5665459d735d",
   "metadata": {},
   "outputs": [
    {
     "name": "stdout",
     "output_type": "stream",
     "text": [
      "Switching successful. Duration: 4.2\n",
      "Switching successful. Duration: 1.4\n"
     ]
    }
   ],
   "source": [
    "curr = convert_current_to_C(switching_successful_idx, curr_scale_to_use_uint16_range)\n",
    "duration = simulate_duration_online(curr)\n",
    "print(f'Switching successful. Duration: {duration}')\n",
    "\n",
    "curr = convert_current_to_C(switching_fault_idx, curr_scale_to_use_uint16_range)\n",
    "duration = simulate_duration_online(curr)\n",
    "print(f'Switching successful. Duration: {duration}')"
   ]
  },
  {
   "cell_type": "markdown",
   "id": "d67b4868-2ec9-4fb7-b5e1-94e2c24d9dfb",
   "metadata": {},
   "source": [
    "## Manual linear regression vs library\n",
    "\n",
    "Test manual implementation of fast linear regression algorithm for slope  against scipy implementation. "
   ]
  },
  {
   "cell_type": "code",
   "execution_count": 31,
   "id": "2898204c-6b8e-4bec-ad1c-c85ca43da3b9",
   "metadata": {},
   "outputs": [
    {
     "data": {
      "text/plain": [
       "1.9099227480687015"
      ]
     },
     "execution_count": 31,
     "metadata": {},
     "output_type": "execute_result"
    }
   ],
   "source": [
    "INRUSH_CURRENT_VALUES = 1000\n",
    "\n",
    "def linearRegressionSlopeEquidistant(timestep, y, windowStart, n):\n",
    "    if (n < 2) | (timestep == 0.0) | (windowStart + n > INRUSH_CURRENT_VALUES):\n",
    "        return 0.0\n",
    "\n",
    "    summ = 0.0;\n",
    "    mid = (n - 1) / 2.0;\n",
    "\n",
    "    for i in range(n):\n",
    "        summ += (i - mid) * y[windowStart + i]\n",
    "\n",
    "    factor = 12.0 / (n * (n * n - 1))\n",
    "    return factor * summ / timestep\n",
    "\n",
    "\n",
    "linearRegressionSlopeEquidistant(0.05, curr, 200, 200)"
   ]
  },
  {
   "cell_type": "code",
   "execution_count": 32,
   "id": "694056e8-2712-4822-948e-c6c5f2b24f6b",
   "metadata": {},
   "outputs": [
    {
     "data": {
      "text/plain": [
       "1.9099227480687007"
      ]
     },
     "execution_count": 32,
     "metadata": {},
     "output_type": "execute_result"
    }
   ],
   "source": [
    "import scipy.stats\n",
    "\n",
    "t = np.arange(0, len(curr)*0.05, 0.05)\n",
    "res = scipy.stats.linregress(t[200:400], curr[200:400])\n",
    "res[0]"
   ]
  },
  {
   "cell_type": "code",
   "execution_count": null,
   "id": "b15fafbd-dbd1-4fae-a8f3-e1fdaa16e708",
   "metadata": {},
   "outputs": [],
   "source": []
  }
 ],
 "metadata": {
  "kernelspec": {
   "display_name": "DataScienceStack_A.04",
   "language": "python",
   "name": "datasciencestack_a.04"
  },
  "language_info": {
   "codemirror_mode": {
    "name": "ipython",
    "version": 3
   },
   "file_extension": ".py",
   "mimetype": "text/x-python",
   "name": "python",
   "nbconvert_exporter": "python",
   "pygments_lexer": "ipython3",
   "version": "3.10.7"
  }
 },
 "nbformat": 4,
 "nbformat_minor": 5
}
